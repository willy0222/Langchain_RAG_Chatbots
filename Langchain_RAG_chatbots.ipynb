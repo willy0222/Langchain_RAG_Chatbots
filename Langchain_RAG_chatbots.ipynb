{
 "cells": [
  {
   "cell_type": "markdown",
   "id": "3ead12d5-f0fe-4b5d-b8e7-2e64daef82b3",
   "metadata": {},
   "source": [
    "# Building RAG chatbots with LangChain"
   ]
  },
  {
   "cell_type": "code",
   "execution_count": 1,
   "id": "1ded31c4-5ad1-40a4-8c82-c54ff7a6b513",
   "metadata": {},
   "outputs": [
    {
     "data": {
      "text/plain": [
       "True"
      ]
     },
     "execution_count": 1,
     "metadata": {},
     "output_type": "execute_result"
    }
   ],
   "source": [
    "import os\n",
    "from dotenv import load_dotenv\n",
    "from langchain_openai import ChatOpenAI\n",
    "load_dotenv('./.env')"
   ]
  },
  {
   "cell_type": "code",
   "execution_count": 2,
   "id": "1f186060-4da8-41d9-b882-9779419657bc",
   "metadata": {},
   "outputs": [],
   "source": [
    "chat = ChatOpenAI(\n",
    "    model='gpt-3.5-turbo'\n",
    ")"
   ]
  },
  {
   "cell_type": "code",
   "execution_count": 3,
   "id": "4125b4f2-da80-4ed8-9cf8-abcb6290149f",
   "metadata": {},
   "outputs": [],
   "source": [
    "from langchain.schema import (\n",
    "    SystemMessage,\n",
    "    HumanMessage,\n",
    "    AIMessage\n",
    ")\n",
    "\n",
    "messages = [\n",
    "    SystemMessage(content=\"你是一個使用繁體中文的助手\"),\n",
    "    HumanMessage(content=\"嗨你今天好嗎？\"),\n",
    "    AIMessage(content=\"我很好謝謝你，請問你需要什麼幫助嗎？\"),\n",
    "    HumanMessage(content=\"我想了解機器學習\")\n",
    "]"
   ]
  },
  {
   "cell_type": "code",
   "execution_count": 4,
   "id": "a9e19228-a108-4a54-95fe-53056d687a1a",
   "metadata": {},
   "outputs": [
    {
     "data": {
      "text/plain": [
       "AIMessage(content='機器學習是一種人工智慧的應用領域，它讓電腦系統能夠從數據中學習和改進而無需明確地被編程。機器學習主要分為監督式學習、非監督式學習和強化學習等不同類型。在監督式學習中，系統通過與標記好的數據進行訓練，以預測未來的結果；在非監督式學習中，系統通過發現數據中的模式和結構來學習；在強化學習中，系統通過試驗和錯誤的方法來學習。\\n\\n機器學習在許多領域都有廣泛的應用，例如語音識別、圖像識別、自然語言處理、金融預測等。如果你對機器學習有任何具體的問題或想深入了解某一方面，歡迎告訴我，我會盡力幫助你的。', response_metadata={'token_usage': {'completion_tokens': 389, 'prompt_tokens': 93, 'total_tokens': 482}, 'model_name': 'gpt-3.5-turbo', 'system_fingerprint': 'fp_b28b39ffa8', 'finish_reason': 'stop', 'logprobs': None}, id='run-f036c670-99c1-490a-98bd-f5494781cd03-0')"
      ]
     },
     "execution_count": 4,
     "metadata": {},
     "output_type": "execute_result"
    }
   ],
   "source": [
    "res = chat.invoke(messages)\n",
    "res"
   ]
  },
  {
   "cell_type": "code",
   "execution_count": 5,
   "id": "94178803-05ee-4b5d-afe1-2683c6a9eb10",
   "metadata": {},
   "outputs": [
    {
     "name": "stdout",
     "output_type": "stream",
     "text": [
      "機器學習是一種人工智慧的應用領域，它讓電腦系統能夠從數據中學習和改進而無需明確地被編程。機器學習主要分為監督式學習、非監督式學習和強化學習等不同類型。在監督式學習中，系統通過與標記好的數據進行訓練，以預測未來的結果；在非監督式學習中，系統通過發現數據中的模式和結構來學習；在強化學習中，系統通過試驗和錯誤的方法來學習。\n",
      "\n",
      "機器學習在許多領域都有廣泛的應用，例如語音識別、圖像識別、自然語言處理、金融預測等。如果你對機器學習有任何具體的問題或想深入了解某一方面，歡迎告訴我，我會盡力幫助你的。\n"
     ]
    }
   ],
   "source": [
    "print(res.content)"
   ]
  },
  {
   "cell_type": "code",
   "execution_count": 6,
   "id": "81301168-a264-4b7a-ae8e-7fcaa95cbd0b",
   "metadata": {},
   "outputs": [],
   "source": [
    "messages.append(res)"
   ]
  },
  {
   "cell_type": "code",
   "execution_count": 7,
   "id": "313e09a9-efd1-4f5c-9123-f30949971e56",
   "metadata": {},
   "outputs": [],
   "source": [
    "prompt = HumanMessage(\n",
    "    content=\"監督式學習和非監督式學習有什麼不同？\"\n",
    ")\n",
    "messages.append(prompt)"
   ]
  },
  {
   "cell_type": "code",
   "execution_count": 8,
   "id": "eb542d8b-9d24-4902-887f-67290a4f8740",
   "metadata": {},
   "outputs": [
    {
     "name": "stdout",
     "output_type": "stream",
     "text": [
      "監督式學習和非監督式學習是機器學習中兩種主要的學習方法，它們之間有一些重要的不同之處：\n",
      "\n",
      "1. 監督式學習：\n",
      "- 在監督式學習中，模型通過使用帶有標籤的訓練數據來學習。標籤表示輸入數據的預期輸出。換句話說，系統從已知輸入和輸出之間的關係中學習。\n",
      "- 監督式學習的目標是建立一個能夠準確預測新數據的模型，通過比較預測結果和實際標籤來評估模型的性能。\n",
      "- 監督式學習常用於分類和回歸問題，例如圖像分類、郵件垃圾郵件分類等。\n",
      "\n",
      "2. 非監督式學習：\n",
      "- 在非監督式學習中，模型通過尋找數據中的模式和結構來學習，而不需要事先標記好的數據。\n",
      "- 非監督式學習的目標是發現數據中的隱藏結構和模式，對數據進行分組或聚類。\n",
      "- 非監督式學習常用於集群分析、異常檢測、維度縮減等應用。\n",
      "\n",
      "總的來說，監督式學習需要標記好的訓練數據，而非監督式學習則不需要。兩者各有自己的應用場景和優缺點，選擇使用哪種方法取決於問題的性質和目標。\n"
     ]
    }
   ],
   "source": [
    "res = chat.invoke(messages)\n",
    "print(res.content)"
   ]
  },
  {
   "cell_type": "code",
   "execution_count": 9,
   "id": "fa9e54e7-c926-4444-8e30-1ab07653c017",
   "metadata": {},
   "outputs": [
    {
     "name": "stdout",
     "output_type": "stream",
     "text": [
      "對不起，我無法找到有關LangChain或LLMChain的相關資訊。也許你能提供更多上下文或詳細資訊，讓我更好地了解你的問題嗎？這樣我才能幫助你更好地解答。\n"
     ]
    }
   ],
   "source": [
    "# add latest response to messages\n",
    "messages.append(res)\n",
    "\n",
    "# create a new user prompt\n",
    "prompt = HumanMessage(\n",
    "    content=\"能介紹一下LangChain中的LLMChain嗎？\"\n",
    ")\n",
    "# append to messages\n",
    "messages.append(prompt)\n",
    "\n",
    "# send to GPT\n",
    "res = chat.invoke(messages)\n",
    "print(res.content)"
   ]
  },
  {
   "cell_type": "code",
   "execution_count": 10,
   "id": "61ab8fa7-3a98-43ab-ad7d-3e447a04fbc3",
   "metadata": {},
   "outputs": [],
   "source": [
    "llmchain_information = [\n",
    "    \"LLMChain是一個簡單的鍊式結構，它在語言模型周圍添加了一些功能。 它廣泛用於LangChain中，包括其他鍊式結構和代理程式。\",\n",
    "    \"LLMChain由PromptTemplate和語言模型（LLM或聊天模型）組成。 它使用提供的輸入鍵值（如果有的話，還包括記憶體鍵值）格式化提示模板，將格式化的字串傳遞給LLM並傳回LLM輸出。\",\n",
    "    \"LangChain 是用於開發由語言模型驅動的應用程式的框架。我們相信，最強大、最差異化的應用程式不僅會透過API 呼叫語言模型，而且還會： (1) 具有資料意識：連接語言(2) 具有代理性：允許語言模型與其環境互動。因此，LangChain 框架的設計目標是支援這些類型的應用程式。\"\n",
    "]\n",
    "\n",
    "\n",
    "source_knowledge = \"\\n\".join(llmchain_information)"
   ]
  },
  {
   "cell_type": "code",
   "execution_count": 11,
   "id": "09c523df-e51c-4443-9a41-d033ec601629",
   "metadata": {},
   "outputs": [],
   "source": [
    "query = \"能介紹一下LangChain中的LLMChain嗎？\"\n",
    "\n",
    "augmented_prompt = f\"\"\"Using the contexts below to answer the question.\n",
    "\n",
    "Contexts:\n",
    "{source_knowledge}\n",
    "\n",
    "Question: {query}\"\"\""
   ]
  },
  {
   "cell_type": "code",
   "execution_count": 12,
   "id": "2401feb3-9cce-4327-9c0e-7641058657e3",
   "metadata": {},
   "outputs": [
    {
     "name": "stdout",
     "output_type": "stream",
     "text": [
      "LLMChain是LangChain框架中的一個重要組件，它是一個簡單的鍊式結構，在語言模型周圍添加了一些功能。LLMChain由PromptTemplate和語言模型（LLM或聊天模型）組成。它的主要功能是將提供的輸入鍵值（包括記憶體鍵值）格式化為提示模板，然後將格式化的字串傳遞給LLM，並將LLM的輸出返回。LLMChain廣泛應用於LangChain中，包括其他鍊式結構和代理程式。LangChain是用於開發由語言模型驅動的應用程式的框架，旨在支持具有資料意識和代理性的應用程式，讓語言模型能夠與其環境互動，從而創建出更加強大和差異化的應用程式。\n"
     ]
    }
   ],
   "source": [
    "prompt = HumanMessage(\n",
    "    content=augmented_prompt\n",
    ")\n",
    "\n",
    "messages.append(prompt)\n",
    "\n",
    "res = chat.invoke(messages)\n",
    "print(res.content)"
   ]
  },
  {
   "cell_type": "markdown",
   "id": "7b43259b-bb35-4c98-a7bf-32d9ee4d66e1",
   "metadata": {},
   "source": [
    "# 用自己的QA data"
   ]
  },
  {
   "cell_type": "code",
   "execution_count": 13,
   "id": "6a6a4ed3-7d51-49cb-9904-1fb46a332aa4",
   "metadata": {},
   "outputs": [
    {
     "data": {
      "text/html": [
       "<div>\n",
       "<style scoped>\n",
       "    .dataframe tbody tr th:only-of-type {\n",
       "        vertical-align: middle;\n",
       "    }\n",
       "\n",
       "    .dataframe tbody tr th {\n",
       "        vertical-align: top;\n",
       "    }\n",
       "\n",
       "    .dataframe thead th {\n",
       "        text-align: right;\n",
       "    }\n",
       "</style>\n",
       "<table border=\"1\" class=\"dataframe\">\n",
       "  <thead>\n",
       "    <tr style=\"text-align: right;\">\n",
       "      <th></th>\n",
       "      <th>Question</th>\n",
       "      <th>Answer</th>\n",
       "      <th>QA</th>\n",
       "    </tr>\n",
       "  </thead>\n",
       "  <tbody>\n",
       "    <tr>\n",
       "      <th>0</th>\n",
       "      <td>未滿 2 歲兒童托育補助發放對象有哪些?</td>\n",
       "      <td>實際年齡未滿 2 歲的中華民國籍兒童,且符合出生登記或戶籍登記、送托簽約托嬰中心或居家托育人...</td>\n",
       "      <td>未滿 2 歲兒童托育補助發放對象有哪些? - 實際年齡未滿 2 歲的中華民國籍兒童,且符合出...</td>\n",
       "    </tr>\n",
       "    <tr>\n",
       "      <th>1</th>\n",
       "      <td>未滿 2 歲托育補助發放金額是多少?</td>\n",
       "      <td>從 112 年 1 月 1 日起,公共化托育補助為每月 5,500 元起,準公共托育補助為每...</td>\n",
       "      <td>未滿 2 歲托育補助發放金額是多少? - 從 112 年 1 月 1 日起,公共化托育補助為...</td>\n",
       "    </tr>\n",
       "    <tr>\n",
       "      <th>2</th>\n",
       "      <td>申請未滿 2 歲托育補助需準備哪些文件?</td>\n",
       "      <td>需提供未滿 2 歲兒童托育準公共化服務費用申報表、申請人及兒童身分證明文件、簽訂之托育服務契...</td>\n",
       "      <td>申請未滿 2 歲托育補助需準備哪些文件? - 需提供未滿 2 歲兒童托育準公共化服務費用申報...</td>\n",
       "    </tr>\n",
       "    <tr>\n",
       "      <th>3</th>\n",
       "      <td>未滿 2 歲托育補助要到哪裡申請?</td>\n",
       "      <td>請檢具申請書及相關證明文件,於托育事實發生之日起 15 日內,以郵寄或親送方式向托嬰中心或居...</td>\n",
       "      <td>未滿 2 歲托育補助要到哪裡申請? - 請檢具申請書及相關證明文件,於托育事實發生之日起 1...</td>\n",
       "    </tr>\n",
       "    <tr>\n",
       "      <th>4</th>\n",
       "      <td>兒童原本領取育兒津貼,後改送托,需要重新申請托育補助嗎?</td>\n",
       "      <td>需要重新申請,並記得向原領育兒津貼的公所取消。相反地,如原領托育補助改為自行照顧,也要向公所...</td>\n",
       "      <td>兒童原本領取育兒津貼,後改送托,需要重新申請托育補助嗎? - 需要重新申請,並記得向原領育兒...</td>\n",
       "    </tr>\n",
       "  </tbody>\n",
       "</table>\n",
       "</div>"
      ],
      "text/plain": [
       "                       Question  \\\n",
       "0          未滿 2 歲兒童托育補助發放對象有哪些?   \n",
       "1            未滿 2 歲托育補助發放金額是多少?   \n",
       "2          申請未滿 2 歲托育補助需準備哪些文件?   \n",
       "3             未滿 2 歲托育補助要到哪裡申請?   \n",
       "4  兒童原本領取育兒津貼,後改送托,需要重新申請托育補助嗎?   \n",
       "\n",
       "                                              Answer  \\\n",
       "0  實際年齡未滿 2 歲的中華民國籍兒童,且符合出生登記或戶籍登記、送托簽約托嬰中心或居家托育人...   \n",
       "1  從 112 年 1 月 1 日起,公共化托育補助為每月 5,500 元起,準公共托育補助為每...   \n",
       "2  需提供未滿 2 歲兒童托育準公共化服務費用申報表、申請人及兒童身分證明文件、簽訂之托育服務契...   \n",
       "3  請檢具申請書及相關證明文件,於托育事實發生之日起 15 日內,以郵寄或親送方式向托嬰中心或居...   \n",
       "4  需要重新申請,並記得向原領育兒津貼的公所取消。相反地,如原領托育補助改為自行照顧,也要向公所...   \n",
       "\n",
       "                                                  QA  \n",
       "0  未滿 2 歲兒童托育補助發放對象有哪些? - 實際年齡未滿 2 歲的中華民國籍兒童,且符合出...  \n",
       "1  未滿 2 歲托育補助發放金額是多少? - 從 112 年 1 月 1 日起,公共化托育補助為...  \n",
       "2  申請未滿 2 歲托育補助需準備哪些文件? - 需提供未滿 2 歲兒童托育準公共化服務費用申報...  \n",
       "3  未滿 2 歲托育補助要到哪裡申請? - 請檢具申請書及相關證明文件,於托育事實發生之日起 1...  \n",
       "4  兒童原本領取育兒津貼,後改送托,需要重新申請托育補助嗎? - 需要重新申請,並記得向原領育兒...  "
      ]
     },
     "execution_count": 13,
     "metadata": {},
     "output_type": "execute_result"
    }
   ],
   "source": [
    "import pandas as pd\n",
    "df = pd.read_csv(\"qa_data.csv\", encoding='utf-8')\n",
    "df.head()"
   ]
  },
  {
   "cell_type": "code",
   "execution_count": 14,
   "id": "1bdef744-4bf8-4845-9f43-9a2316043280",
   "metadata": {},
   "outputs": [
    {
     "data": {
      "text/html": [
       "<div>\n",
       "<style scoped>\n",
       "    .dataframe tbody tr th:only-of-type {\n",
       "        vertical-align: middle;\n",
       "    }\n",
       "\n",
       "    .dataframe tbody tr th {\n",
       "        vertical-align: top;\n",
       "    }\n",
       "\n",
       "    .dataframe thead th {\n",
       "        text-align: right;\n",
       "    }\n",
       "</style>\n",
       "<table border=\"1\" class=\"dataframe\">\n",
       "  <thead>\n",
       "    <tr style=\"text-align: right;\">\n",
       "      <th></th>\n",
       "      <th>Question</th>\n",
       "      <th>Answer</th>\n",
       "      <th>QA</th>\n",
       "    </tr>\n",
       "  </thead>\n",
       "  <tbody>\n",
       "    <tr>\n",
       "      <th>0</th>\n",
       "      <td>未滿 2 歲兒童托育補助發放對象有哪些?</td>\n",
       "      <td>實際年齡未滿 2 歲的中華民國籍兒童,且符合出生登記或戶籍登記、送托簽約托嬰中心或居家托育人...</td>\n",
       "      <td>未滿 2 歲兒童托育補助發放對象有哪些? - 實際年齡未滿 2 歲的中華民國籍兒童,且符合出...</td>\n",
       "    </tr>\n",
       "    <tr>\n",
       "      <th>1</th>\n",
       "      <td>未滿 2 歲托育補助發放金額是多少?</td>\n",
       "      <td>從 112 年 1 月 1 日起,公共化托育補助為每月 5,500 元起,準公共托育補助為每...</td>\n",
       "      <td>未滿 2 歲托育補助發放金額是多少? - 從 112 年 1 月 1 日起,公共化托育補助為...</td>\n",
       "    </tr>\n",
       "    <tr>\n",
       "      <th>2</th>\n",
       "      <td>申請未滿 2 歲托育補助需準備哪些文件?</td>\n",
       "      <td>需提供未滿 2 歲兒童托育準公共化服務費用申報表、申請人及兒童身分證明文件、簽訂之托育服務契...</td>\n",
       "      <td>申請未滿 2 歲托育補助需準備哪些文件? - 需提供未滿 2 歲兒童托育準公共化服務費用申報...</td>\n",
       "    </tr>\n",
       "    <tr>\n",
       "      <th>3</th>\n",
       "      <td>未滿 2 歲托育補助要到哪裡申請?</td>\n",
       "      <td>請檢具申請書及相關證明文件,於托育事實發生之日起 15 日內,以郵寄或親送方式向托嬰中心或居...</td>\n",
       "      <td>未滿 2 歲托育補助要到哪裡申請? - 請檢具申請書及相關證明文件,於托育事實發生之日起 1...</td>\n",
       "    </tr>\n",
       "    <tr>\n",
       "      <th>4</th>\n",
       "      <td>兒童原本領取育兒津貼,後改送托,需要重新申請托育補助嗎?</td>\n",
       "      <td>需要重新申請,並記得向原領育兒津貼的公所取消。相反地,如原領托育補助改為自行照顧,也要向公所...</td>\n",
       "      <td>兒童原本領取育兒津貼,後改送托,需要重新申請托育補助嗎? - 需要重新申請,並記得向原領育兒...</td>\n",
       "    </tr>\n",
       "  </tbody>\n",
       "</table>\n",
       "</div>"
      ],
      "text/plain": [
       "                       Question  \\\n",
       "0          未滿 2 歲兒童托育補助發放對象有哪些?   \n",
       "1            未滿 2 歲托育補助發放金額是多少?   \n",
       "2          申請未滿 2 歲托育補助需準備哪些文件?   \n",
       "3             未滿 2 歲托育補助要到哪裡申請?   \n",
       "4  兒童原本領取育兒津貼,後改送托,需要重新申請托育補助嗎?   \n",
       "\n",
       "                                              Answer  \\\n",
       "0  實際年齡未滿 2 歲的中華民國籍兒童,且符合出生登記或戶籍登記、送托簽約托嬰中心或居家托育人...   \n",
       "1  從 112 年 1 月 1 日起,公共化托育補助為每月 5,500 元起,準公共托育補助為每...   \n",
       "2  需提供未滿 2 歲兒童托育準公共化服務費用申報表、申請人及兒童身分證明文件、簽訂之托育服務契...   \n",
       "3  請檢具申請書及相關證明文件,於托育事實發生之日起 15 日內,以郵寄或親送方式向托嬰中心或居...   \n",
       "4  需要重新申請,並記得向原領育兒津貼的公所取消。相反地,如原領托育補助改為自行照顧,也要向公所...   \n",
       "\n",
       "                                                  QA  \n",
       "0  未滿 2 歲兒童托育補助發放對象有哪些? - 實際年齡未滿 2 歲的中華民國籍兒童,且符合出...  \n",
       "1  未滿 2 歲托育補助發放金額是多少? - 從 112 年 1 月 1 日起,公共化托育補助為...  \n",
       "2  申請未滿 2 歲托育補助需準備哪些文件? - 需提供未滿 2 歲兒童托育準公共化服務費用申報...  \n",
       "3  未滿 2 歲托育補助要到哪裡申請? - 請檢具申請書及相關證明文件,於托育事實發生之日起 1...  \n",
       "4  兒童原本領取育兒津貼,後改送托,需要重新申請托育補助嗎? - 需要重新申請,並記得向原領育兒...  "
      ]
     },
     "execution_count": 14,
     "metadata": {},
     "output_type": "execute_result"
    }
   ],
   "source": [
    "docs = df[['Question', 'Answer', 'QA']]\n",
    "docs.head()"
   ]
  },
  {
   "cell_type": "markdown",
   "id": "c63804b4-5e9a-4ca1-ba7f-e563e3513924",
   "metadata": {},
   "source": [
    "# RAG"
   ]
  },
  {
   "cell_type": "code",
   "execution_count": 15,
   "id": "823f066c-eb19-464a-8e70-b9ab5721c778",
   "metadata": {},
   "outputs": [],
   "source": [
    "from langchain_community.document_loaders import DataFrameLoader\n",
    "\n",
    "loader = DataFrameLoader(docs, page_content_column=\"QA\")\n",
    "documents = loader.load()"
   ]
  },
  {
   "cell_type": "code",
   "execution_count": 16,
   "id": "70a6869d-caec-4733-9b05-a3ce049686f0",
   "metadata": {},
   "outputs": [
    {
     "data": {
      "text/plain": [
       "Document(page_content='未滿 2 歲兒童托育補助發放對象有哪些? - 實際年齡未滿 2 歲的中華民國籍兒童,且符合出生登記或戶籍登記、送托簽約托嬰中心或居家托育人員、每週送托時數達 30 小時以上、未領取育兒津貼、未經政府公費安置等條件。', metadata={'Question': '未滿 2 歲兒童托育補助發放對象有哪些?', 'Answer': '實際年齡未滿 2 歲的中華民國籍兒童,且符合出生登記或戶籍登記、送托簽約托嬰中心或居家托育人員、每週送托時數達 30 小時以上、未領取育兒津貼、未經政府公費安置等條件。'})"
      ]
     },
     "execution_count": 16,
     "metadata": {},
     "output_type": "execute_result"
    }
   ],
   "source": [
    "documents[0]"
   ]
  },
  {
   "cell_type": "code",
   "execution_count": 17,
   "id": "053627e4-503e-4703-a098-d7783d079a66",
   "metadata": {},
   "outputs": [
    {
     "data": {
      "text/plain": [
       "{'Question': '未滿 2 歲兒童托育補助發放對象有哪些?',\n",
       " 'Answer': '實際年齡未滿 2 歲的中華民國籍兒童,且符合出生登記或戶籍登記、送托簽約托嬰中心或居家托育人員、每週送托時數達 30 小時以上、未領取育兒津貼、未經政府公費安置等條件。'}"
      ]
     },
     "execution_count": 17,
     "metadata": {},
     "output_type": "execute_result"
    }
   ],
   "source": [
    "documents[0].metadata"
   ]
  },
  {
   "cell_type": "code",
   "execution_count": 18,
   "id": "80a504a2-c5c4-44b4-aa2e-6d626480a1c3",
   "metadata": {},
   "outputs": [],
   "source": [
    "from langchain_community.vectorstores import Qdrant\n",
    "from langchain_openai import OpenAIEmbeddings\n",
    "embeddings = OpenAIEmbeddings(model=\"text-embedding-3-small\")\n",
    "\n",
    "qdrant = Qdrant.from_documents(\n",
    "    documents=documents,\n",
    "    embedding=embeddings,\n",
    "    location=\":memory:\",  # Local mode with in-memory storage only\n",
    "    collection_name=\"chatbot\"\n",
    ")"
   ]
  },
  {
   "cell_type": "code",
   "execution_count": 19,
   "id": "1121fee7-acd6-4507-94b8-8053b649d763",
   "metadata": {},
   "outputs": [
    {
     "data": {
      "text/plain": [
       "[Document(page_content='未滿 2 歲托育補助發放金額是多少? - 從 112 年 1 月 1 日起,公共化托育補助為每月 5,500 元起,準公共托育補助為每月 8,500 元起。第 2 名子女加發 1,000 元,第 3 名以上子女加發 2,000 元。', metadata={'Question': '未滿 2 歲托育補助發放金額是多少?', 'Answer': '從 112 年 1 月 1 日起,公共化托育補助為每月 5,500 元起,準公共托育補助為每月 8,500 元起。第 2 名子女加發 1,000 元,第 3 名以上子女加發 2,000 元。', '_id': '60f12d0393a04f16b208ffa47d43beb4', '_collection_name': 'chatbot'}),\n",
       " Document(page_content='未滿 2 歲兒童托育補助發放對象有哪些? - 實際年齡未滿 2 歲的中華民國籍兒童,且符合出生登記或戶籍登記、送托簽約托嬰中心或居家托育人員、每週送托時數達 30 小時以上、未領取育兒津貼、未經政府公費安置等條件。', metadata={'Question': '未滿 2 歲兒童托育補助發放對象有哪些?', 'Answer': '實際年齡未滿 2 歲的中華民國籍兒童,且符合出生登記或戶籍登記、送托簽約托嬰中心或居家托育人員、每週送托時數達 30 小時以上、未領取育兒津貼、未經政府公費安置等條件。', '_id': 'fd507fdc62c84457bca5df6e3bb707c7', '_collection_name': 'chatbot'}),\n",
       " Document(page_content='未滿 2 歲托育補助要到哪裡申請? - 請檢具申請書及相關證明文件,於托育事實發生之日起 15 日內,以郵寄或親送方式向托嬰中心或居家保母所屬的居家托育服務中心提出申請。', metadata={'Question': '未滿 2 歲托育補助要到哪裡申請?', 'Answer': '請檢具申請書及相關證明文件,於托育事實發生之日起 15 日內,以郵寄或親送方式向托嬰中心或居家保母所屬的居家托育服務中心提出申請。', '_id': '6d11136c762d4a3ba89602f91a6ea9f9', '_collection_name': 'chatbot'})]"
      ]
     },
     "execution_count": 19,
     "metadata": {},
     "output_type": "execute_result"
    }
   ],
   "source": [
    "query = \"托育補助發放金額是多少?\"\n",
    "qdrant.similarity_search(query, k=3)"
   ]
  },
  {
   "cell_type": "code",
   "execution_count": 20,
   "id": "df85291a-87a2-48ed-a6d5-57b0d66fe8ae",
   "metadata": {},
   "outputs": [],
   "source": [
    "def custom_prompt(query: str):\n",
    "    results = qdrant.similarity_search(query, k=3)\n",
    "    source_knowledge = \"\\n\".join([x.page_content for x in results])\n",
    "    augment_prompt = f\"\"\"Using the contexts below, answer the query:\n",
    "\n",
    "    Contexts:\n",
    "    {source_knowledge}\n",
    "\n",
    "    Query: {query}\"\"\"\n",
    "    return augment_prompt"
   ]
  },
  {
   "cell_type": "code",
   "execution_count": 21,
   "id": "361d4367-3e06-4cb8-9fad-e02726e70078",
   "metadata": {},
   "outputs": [
    {
     "name": "stdout",
     "output_type": "stream",
     "text": [
      "Using the contexts below, answer the query:\n",
      "\n",
      "    Contexts:\n",
      "    未滿 2 歲托育補助發放金額是多少? - 從 112 年 1 月 1 日起,公共化托育補助為每月 5,500 元起,準公共托育補助為每月 8,500 元起。第 2 名子女加發 1,000 元,第 3 名以上子女加發 2,000 元。\n",
      "未滿 2 歲兒童托育補助發放對象有哪些? - 實際年齡未滿 2 歲的中華民國籍兒童,且符合出生登記或戶籍登記、送托簽約托嬰中心或居家托育人員、每週送托時數達 30 小時以上、未領取育兒津貼、未經政府公費安置等條件。\n",
      "未滿 2 歲托育補助要到哪裡申請? - 請檢具申請書及相關證明文件,於托育事實發生之日起 15 日內,以郵寄或親送方式向托嬰中心或居家保母所屬的居家托育服務中心提出申請。\n",
      "\n",
      "    Query: 托育補助發放金額是多少?\n"
     ]
    }
   ],
   "source": [
    "print(custom_prompt(query))"
   ]
  },
  {
   "cell_type": "code",
   "execution_count": 22,
   "id": "ae16353d-9da6-494d-914f-b1ac65d4cb54",
   "metadata": {},
   "outputs": [
    {
     "name": "stdout",
     "output_type": "stream",
     "text": [
      "未滿 2 歲的托育補助發放金額根據不同條件而有所不同。公共化托育補助為每月 5,500 元起，準公共托育補助為每月 8,500 元起。此外，第 2 名子女可額外加發 1,000 元，第 3 名以上子女可加發 2,000 元。因此，根據子女數量和其他條件，托育補助金額會有所調整。\n"
     ]
    }
   ],
   "source": [
    "prompt = HumanMessage(\n",
    "    content=custom_prompt(query)\n",
    ")\n",
    "\n",
    "messages.append(prompt)\n",
    "\n",
    "res = chat.invoke(messages)\n",
    "\n",
    "print(res.content)"
   ]
  }
 ],
 "metadata": {
  "kernelspec": {
   "display_name": "Python 3",
   "language": "python",
   "name": "python3"
  },
  "language_info": {
   "codemirror_mode": {
    "name": "ipython",
    "version": 3
   },
   "file_extension": ".py",
   "mimetype": "text/x-python",
   "name": "python",
   "nbconvert_exporter": "python",
   "pygments_lexer": "ipython3",
   "version": "3.11.8"
  }
 },
 "nbformat": 4,
 "nbformat_minor": 5
}
