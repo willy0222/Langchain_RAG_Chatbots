{
  "cells": [
    {
      "cell_type": "markdown",
      "id": "3ead12d5-f0fe-4b5d-b8e7-2e64daef82b3",
      "metadata": {
        "id": "3ead12d5-f0fe-4b5d-b8e7-2e64daef82b3"
      },
      "source": [
        "# Building RAG chatbots with LangChain"
      ]
    },
    {
      "cell_type": "code",
      "execution_count": null,
      "id": "1ded31c4-5ad1-40a4-8c82-c54ff7a6b513",
      "metadata": {
        "id": "1ded31c4-5ad1-40a4-8c82-c54ff7a6b513"
      },
      "outputs": [],
      "source": [
        "import os\n",
        "# from dotenv import load_dotenv\n",
        "from langchain_openai import ChatOpenAI\n",
        "# load_dotenv('./.env')"
      ]
    },
    {
      "cell_type": "code",
      "execution_count": null,
      "id": "1f186060-4da8-41d9-b882-9779419657bc",
      "metadata": {
        "id": "1f186060-4da8-41d9-b882-9779419657bc"
      },
      "outputs": [],
      "source": [
        "chat = ChatOpenAI(\n",
        "    openai_api_key=\"OPENAI_API_KEY\",\n",
        "    model='gpt-3.5-turbo'\n",
        ")"
      ]
    },
    {
      "cell_type": "code",
      "execution_count": null,
      "id": "4125b4f2-da80-4ed8-9cf8-abcb6290149f",
      "metadata": {
        "id": "4125b4f2-da80-4ed8-9cf8-abcb6290149f"
      },
      "outputs": [],
      "source": [
        "from langchain.schema import (\n",
        "    SystemMessage,\n",
        "    HumanMessage,\n",
        "    AIMessage\n",
        ")\n",
        "\n",
        "messages = [\n",
        "    SystemMessage(content=\"你是一個使用繁體中文的助手\"),\n",
        "    HumanMessage(content=\"嗨你今天好嗎？\"),\n",
        "    AIMessage(content=\"我很好謝謝你，請問你需要什麼幫助嗎？\"),\n",
        "    HumanMessage(content=\"我想了解機器學習\")\n",
        "]"
      ]
    },
    {
      "cell_type": "code",
      "execution_count": null,
      "id": "a9e19228-a108-4a54-95fe-53056d687a1a",
      "metadata": {
        "colab": {
          "base_uri": "https://localhost:8080/"
        },
        "id": "a9e19228-a108-4a54-95fe-53056d687a1a",
        "outputId": "f80c3468-187a-45bc-ea6f-2e1b3acf7d83"
      },
      "outputs": [
        {
          "output_type": "execute_result",
          "data": {
            "text/plain": [
              "AIMessage(content='機器學習是一種人工智慧的應用領域，讓電腦系統透過學習從資料中找到模式和規律，並能夠自動進行決策和預測。機器學習可以分為監督式學習、非監督式學習和強化學習等不同類型。\\n\\n監督式學習是透過標記過的訓練資料來訓練模型，讓模型能夠從中學習並預測未知的資料。非監督式學習則是從未標記的資料中尋找模式和結構，而強化學習則是讓代理人在與環境互動的過程中學習最佳的行為策略。\\n\\n機器學習在眾多領域中都有應用，包括自然語言處理、圖像識別、醫學影像分析等。如果你有任何具體的問題或想深入了解某個方面，歡迎告訴我！', response_metadata={'token_usage': {'completion_tokens': 386, 'prompt_tokens': 93, 'total_tokens': 479}, 'model_name': 'gpt-3.5-turbo', 'system_fingerprint': 'fp_b28b39ffa8', 'finish_reason': 'stop', 'logprobs': None}, id='run-f66c9478-b0d5-4011-8699-e9395159ff23-0')"
            ]
          },
          "metadata": {},
          "execution_count": 4
        }
      ],
      "source": [
        "res = chat.invoke(messages)\n",
        "res"
      ]
    },
    {
      "cell_type": "code",
      "execution_count": null,
      "id": "94178803-05ee-4b5d-afe1-2683c6a9eb10",
      "metadata": {
        "colab": {
          "base_uri": "https://localhost:8080/"
        },
        "id": "94178803-05ee-4b5d-afe1-2683c6a9eb10",
        "outputId": "27c83dcd-7f5b-4909-ca63-03113a8ac7ad"
      },
      "outputs": [
        {
          "output_type": "stream",
          "name": "stdout",
          "text": [
            "機器學習是一種人工智慧的應用領域，讓電腦系統透過學習從資料中找到模式和規律，並能夠自動進行決策和預測。機器學習可以分為監督式學習、非監督式學習和強化學習等不同類型。\n",
            "\n",
            "監督式學習是透過標記過的訓練資料來訓練模型，讓模型能夠從中學習並預測未知的資料。非監督式學習則是從未標記的資料中尋找模式和結構，而強化學習則是讓代理人在與環境互動的過程中學習最佳的行為策略。\n",
            "\n",
            "機器學習在眾多領域中都有應用，包括自然語言處理、圖像識別、醫學影像分析等。如果你有任何具體的問題或想深入了解某個方面，歡迎告訴我！\n"
          ]
        }
      ],
      "source": [
        "print(res.content)"
      ]
    },
    {
      "cell_type": "code",
      "execution_count": null,
      "id": "81301168-a264-4b7a-ae8e-7fcaa95cbd0b",
      "metadata": {
        "id": "81301168-a264-4b7a-ae8e-7fcaa95cbd0b"
      },
      "outputs": [],
      "source": [
        "messages.append(res)"
      ]
    },
    {
      "cell_type": "code",
      "execution_count": null,
      "id": "313e09a9-efd1-4f5c-9123-f30949971e56",
      "metadata": {
        "id": "313e09a9-efd1-4f5c-9123-f30949971e56"
      },
      "outputs": [],
      "source": [
        "prompt = HumanMessage(\n",
        "    content=\"監督式學習和非監督式學習有什麼不同？\"\n",
        ")\n",
        "messages.append(prompt)"
      ]
    },
    {
      "cell_type": "code",
      "execution_count": null,
      "id": "eb542d8b-9d24-4902-887f-67290a4f8740",
      "metadata": {
        "colab": {
          "base_uri": "https://localhost:8080/"
        },
        "id": "eb542d8b-9d24-4902-887f-67290a4f8740",
        "outputId": "bab70264-a229-4b4c-da2f-69f36cadfd05"
      },
      "outputs": [
        {
          "output_type": "stream",
          "name": "stdout",
          "text": [
            "監督式學習和非監督式學習是機器學習中兩種主要的學習方式，它們之間的主要區別在於訓練資料的標記情況和學習目標：\n",
            "\n",
            "1. 監督式學習（Supervised Learning）:\n",
            "- 訓練資料包含了輸入特徵和對應的輸出標籤。\n",
            "- 目標是從訓練資料中學習一個函數，能夠將輸入映射到正確的輸出。\n",
            "- 在訓練過程中，模型通過比較預測輸出和實際標籤來不斷調整自身，以最小化預測誤差。\n",
            "- 監督式學習的例子包括分類（classification）和回歸（regression）。\n",
            "\n",
            "2. 非監督式學習（Unsupervised Learning）:\n",
            "- 訓練資料沒有標籤，只包含輸入特徵。\n",
            "- 目標是從資料中發現隱藏的結構和模式，並進行分組或分群。\n",
            "- 模型通常通過最大化資料的統計性資訊或設計合理的分群標準來學習。\n",
            "- 非監督式學習的例子包括聚類（clustering）和降維（dimensionality reduction）。\n",
            "\n",
            "總的來說，監督式學習需要標記過的訓練資料來訓練模型，而非監督式學習則在沒有標記的情況下尋找資料的結構。兩種學習方式各有其適用的場景，具體應用取決於任務的性質和資料的特徵。\n"
          ]
        }
      ],
      "source": [
        "res = chat.invoke(messages)\n",
        "print(res.content)"
      ]
    },
    {
      "cell_type": "code",
      "execution_count": null,
      "id": "fa9e54e7-c926-4444-8e30-1ab07653c017",
      "metadata": {
        "colab": {
          "base_uri": "https://localhost:8080/"
        },
        "id": "fa9e54e7-c926-4444-8e30-1ab07653c017",
        "outputId": "d910094b-71b7-44af-9dd5-0027571d2fb4"
      },
      "outputs": [
        {
          "output_type": "stream",
          "name": "stdout",
          "text": [
            "很抱歉，我找不到關於LangChain或LLMChain的相關資訊。也許你能提供更多上下文或相關細節，讓我更好地理解你的問題嗎？如果你有其他問題或需要幫助，請隨時告訴我！\n"
          ]
        }
      ],
      "source": [
        "# add latest response to messages\n",
        "messages.append(res)\n",
        "\n",
        "# create a new user prompt\n",
        "prompt = HumanMessage(\n",
        "    content=\"能介紹一下LangChain中的LLMChain嗎？\"\n",
        ")\n",
        "# append to messages\n",
        "messages.append(prompt)\n",
        "\n",
        "# send to GPT\n",
        "res = chat.invoke(messages)\n",
        "print(res.content)"
      ]
    },
    {
      "cell_type": "code",
      "execution_count": null,
      "id": "61ab8fa7-3a98-43ab-ad7d-3e447a04fbc3",
      "metadata": {
        "id": "61ab8fa7-3a98-43ab-ad7d-3e447a04fbc3"
      },
      "outputs": [],
      "source": [
        "llmchain_information = [\n",
        "    \"LLMChain是一個簡單的鍊式結構，它在語言模型周圍添加了一些功能。 它廣泛用於LangChain中，包括其他鍊式結構和代理程式。\",\n",
        "    \"LLMChain由PromptTemplate和語言模型（LLM或聊天模型）組成。 它使用提供的輸入鍵值（如果有的話，還包括記憶體鍵值）格式化提示模板，將格式化的字串傳遞給LLM並傳回LLM輸出。\",\n",
        "    \"LangChain 是用於開發由語言模型驅動的應用程式的框架。我們相信，最強大、最差異化的應用程式不僅會透過API 呼叫語言模型，而且還會： (1) 具有資料意識：連接語言(2) 具有代理性：允許語言模型與其環境互動。因此，LangChain 框架的設計目標是支援這些類型的應用程式。\"\n",
        "]\n",
        "\n",
        "\n",
        "source_knowledge = \"\\n\".join(llmchain_information)"
      ]
    },
    {
      "cell_type": "code",
      "execution_count": null,
      "id": "09c523df-e51c-4443-9a41-d033ec601629",
      "metadata": {
        "id": "09c523df-e51c-4443-9a41-d033ec601629"
      },
      "outputs": [],
      "source": [
        "query = \"能介紹一下LangChain中的LLMChain嗎？\"\n",
        "\n",
        "augmented_prompt = f\"\"\"Using the contexts below to answer the question.\n",
        "\n",
        "Contexts:\n",
        "{source_knowledge}\n",
        "\n",
        "Question: {query}\"\"\""
      ]
    },
    {
      "cell_type": "code",
      "execution_count": null,
      "id": "2401feb3-9cce-4327-9c0e-7641058657e3",
      "metadata": {
        "colab": {
          "base_uri": "https://localhost:8080/"
        },
        "id": "2401feb3-9cce-4327-9c0e-7641058657e3",
        "outputId": "12133ff8-730b-4428-b79a-32e14cd46d63"
      },
      "outputs": [
        {
          "output_type": "stream",
          "name": "stdout",
          "text": [
            "LLMChain是LangChain框架中的一個重要組成部分，它是一個簡單的鍊式結構，用於在語言模型周圍添加功能。LLMChain由PromptTemplate和語言模型（LLM或聊天模型）組成，它使用提供的輸入鍵值（可能包括記憶體鍵值）來格式化提示模板，然後將格式化後的字串傳遞給LLM並返回LLM的輸出。LLMChain廣泛應用於LangChain中，包括其他鍊式結構和代理程式，使得LangChain框架能夠支援各種由語言模型驅動的應用程式，並具有資料意識和代理性。\n"
          ]
        }
      ],
      "source": [
        "prompt = HumanMessage(\n",
        "    content=augmented_prompt\n",
        ")\n",
        "\n",
        "messages.append(prompt)\n",
        "\n",
        "res = chat.invoke(messages)\n",
        "print(res.content)"
      ]
    },
    {
      "cell_type": "markdown",
      "id": "7b43259b-bb35-4c98-a7bf-32d9ee4d66e1",
      "metadata": {
        "id": "7b43259b-bb35-4c98-a7bf-32d9ee4d66e1"
      },
      "source": [
        "# 用自己的QA data"
      ]
    },
    {
      "cell_type": "code",
      "execution_count": null,
      "id": "6a6a4ed3-7d51-49cb-9904-1fb46a332aa4",
      "metadata": {
        "colab": {
          "base_uri": "https://localhost:8080/",
          "height": 292
        },
        "id": "6a6a4ed3-7d51-49cb-9904-1fb46a332aa4",
        "outputId": "5135ead2-5b43-4b9f-c515-1ed363e6d644"
      },
      "outputs": [
        {
          "output_type": "execute_result",
          "data": {
            "text/plain": [
              "                       Question  \\\n",
              "0          未滿 2 歲兒童托育補助發放對象有哪些?   \n",
              "1            未滿 2 歲托育補助發放金額是多少?   \n",
              "2          申請未滿 2 歲托育補助需準備哪些文件?   \n",
              "3             未滿 2 歲托育補助要到哪裡申請?   \n",
              "4  兒童原本領取育兒津貼,後改送托,需要重新申請托育補助嗎?   \n",
              "\n",
              "                                              Answer  \\\n",
              "0  實際年齡未滿 2 歲的中華民國籍兒童,且符合出生登記或戶籍登記、送托簽約托嬰中心或居家托育人...   \n",
              "1  從 112 年 1 月 1 日起,公共化托育補助為每月 5,500 元起,準公共托育補助為每...   \n",
              "2  需提供未滿 2 歲兒童托育準公共化服務費用申報表、申請人及兒童身分證明文件、簽訂之托育服務契...   \n",
              "3  請檢具申請書及相關證明文件,於托育事實發生之日起 15 日內,以郵寄或親送方式向托嬰中心或居...   \n",
              "4  需要重新申請,並記得向原領育兒津貼的公所取消。相反地,如原領托育補助改為自行照顧,也要向公所...   \n",
              "\n",
              "                                                  QA  \n",
              "0  未滿 2 歲兒童托育補助發放對象有哪些? - 實際年齡未滿 2 歲的中華民國籍兒童,且符合出...  \n",
              "1  未滿 2 歲托育補助發放金額是多少? - 從 112 年 1 月 1 日起,公共化托育補助為...  \n",
              "2  申請未滿 2 歲托育補助需準備哪些文件? - 需提供未滿 2 歲兒童托育準公共化服務費用申報...  \n",
              "3  未滿 2 歲托育補助要到哪裡申請? - 請檢具申請書及相關證明文件,於托育事實發生之日起 1...  \n",
              "4  兒童原本領取育兒津貼,後改送托,需要重新申請托育補助嗎? - 需要重新申請,並記得向原領育兒...  "
            ],
            "text/html": [
              "\n",
              "  <div id=\"df-63797aa9-da6f-4ad9-8dec-e43a7e36cb5d\" class=\"colab-df-container\">\n",
              "    <div>\n",
              "<style scoped>\n",
              "    .dataframe tbody tr th:only-of-type {\n",
              "        vertical-align: middle;\n",
              "    }\n",
              "\n",
              "    .dataframe tbody tr th {\n",
              "        vertical-align: top;\n",
              "    }\n",
              "\n",
              "    .dataframe thead th {\n",
              "        text-align: right;\n",
              "    }\n",
              "</style>\n",
              "<table border=\"1\" class=\"dataframe\">\n",
              "  <thead>\n",
              "    <tr style=\"text-align: right;\">\n",
              "      <th></th>\n",
              "      <th>Question</th>\n",
              "      <th>Answer</th>\n",
              "      <th>QA</th>\n",
              "    </tr>\n",
              "  </thead>\n",
              "  <tbody>\n",
              "    <tr>\n",
              "      <th>0</th>\n",
              "      <td>未滿 2 歲兒童托育補助發放對象有哪些?</td>\n",
              "      <td>實際年齡未滿 2 歲的中華民國籍兒童,且符合出生登記或戶籍登記、送托簽約托嬰中心或居家托育人...</td>\n",
              "      <td>未滿 2 歲兒童托育補助發放對象有哪些? - 實際年齡未滿 2 歲的中華民國籍兒童,且符合出...</td>\n",
              "    </tr>\n",
              "    <tr>\n",
              "      <th>1</th>\n",
              "      <td>未滿 2 歲托育補助發放金額是多少?</td>\n",
              "      <td>從 112 年 1 月 1 日起,公共化托育補助為每月 5,500 元起,準公共托育補助為每...</td>\n",
              "      <td>未滿 2 歲托育補助發放金額是多少? - 從 112 年 1 月 1 日起,公共化托育補助為...</td>\n",
              "    </tr>\n",
              "    <tr>\n",
              "      <th>2</th>\n",
              "      <td>申請未滿 2 歲托育補助需準備哪些文件?</td>\n",
              "      <td>需提供未滿 2 歲兒童托育準公共化服務費用申報表、申請人及兒童身分證明文件、簽訂之托育服務契...</td>\n",
              "      <td>申請未滿 2 歲托育補助需準備哪些文件? - 需提供未滿 2 歲兒童托育準公共化服務費用申報...</td>\n",
              "    </tr>\n",
              "    <tr>\n",
              "      <th>3</th>\n",
              "      <td>未滿 2 歲托育補助要到哪裡申請?</td>\n",
              "      <td>請檢具申請書及相關證明文件,於托育事實發生之日起 15 日內,以郵寄或親送方式向托嬰中心或居...</td>\n",
              "      <td>未滿 2 歲托育補助要到哪裡申請? - 請檢具申請書及相關證明文件,於托育事實發生之日起 1...</td>\n",
              "    </tr>\n",
              "    <tr>\n",
              "      <th>4</th>\n",
              "      <td>兒童原本領取育兒津貼,後改送托,需要重新申請托育補助嗎?</td>\n",
              "      <td>需要重新申請,並記得向原領育兒津貼的公所取消。相反地,如原領托育補助改為自行照顧,也要向公所...</td>\n",
              "      <td>兒童原本領取育兒津貼,後改送托,需要重新申請托育補助嗎? - 需要重新申請,並記得向原領育兒...</td>\n",
              "    </tr>\n",
              "  </tbody>\n",
              "</table>\n",
              "</div>\n",
              "    <div class=\"colab-df-buttons\">\n",
              "\n",
              "  <div class=\"colab-df-container\">\n",
              "    <button class=\"colab-df-convert\" onclick=\"convertToInteractive('df-63797aa9-da6f-4ad9-8dec-e43a7e36cb5d')\"\n",
              "            title=\"Convert this dataframe to an interactive table.\"\n",
              "            style=\"display:none;\">\n",
              "\n",
              "  <svg xmlns=\"http://www.w3.org/2000/svg\" height=\"24px\" viewBox=\"0 -960 960 960\">\n",
              "    <path d=\"M120-120v-720h720v720H120Zm60-500h600v-160H180v160Zm220 220h160v-160H400v160Zm0 220h160v-160H400v160ZM180-400h160v-160H180v160Zm440 0h160v-160H620v160ZM180-180h160v-160H180v160Zm440 0h160v-160H620v160Z\"/>\n",
              "  </svg>\n",
              "    </button>\n",
              "\n",
              "  <style>\n",
              "    .colab-df-container {\n",
              "      display:flex;\n",
              "      gap: 12px;\n",
              "    }\n",
              "\n",
              "    .colab-df-convert {\n",
              "      background-color: #E8F0FE;\n",
              "      border: none;\n",
              "      border-radius: 50%;\n",
              "      cursor: pointer;\n",
              "      display: none;\n",
              "      fill: #1967D2;\n",
              "      height: 32px;\n",
              "      padding: 0 0 0 0;\n",
              "      width: 32px;\n",
              "    }\n",
              "\n",
              "    .colab-df-convert:hover {\n",
              "      background-color: #E2EBFA;\n",
              "      box-shadow: 0px 1px 2px rgba(60, 64, 67, 0.3), 0px 1px 3px 1px rgba(60, 64, 67, 0.15);\n",
              "      fill: #174EA6;\n",
              "    }\n",
              "\n",
              "    .colab-df-buttons div {\n",
              "      margin-bottom: 4px;\n",
              "    }\n",
              "\n",
              "    [theme=dark] .colab-df-convert {\n",
              "      background-color: #3B4455;\n",
              "      fill: #D2E3FC;\n",
              "    }\n",
              "\n",
              "    [theme=dark] .colab-df-convert:hover {\n",
              "      background-color: #434B5C;\n",
              "      box-shadow: 0px 1px 3px 1px rgba(0, 0, 0, 0.15);\n",
              "      filter: drop-shadow(0px 1px 2px rgba(0, 0, 0, 0.3));\n",
              "      fill: #FFFFFF;\n",
              "    }\n",
              "  </style>\n",
              "\n",
              "    <script>\n",
              "      const buttonEl =\n",
              "        document.querySelector('#df-63797aa9-da6f-4ad9-8dec-e43a7e36cb5d button.colab-df-convert');\n",
              "      buttonEl.style.display =\n",
              "        google.colab.kernel.accessAllowed ? 'block' : 'none';\n",
              "\n",
              "      async function convertToInteractive(key) {\n",
              "        const element = document.querySelector('#df-63797aa9-da6f-4ad9-8dec-e43a7e36cb5d');\n",
              "        const dataTable =\n",
              "          await google.colab.kernel.invokeFunction('convertToInteractive',\n",
              "                                                    [key], {});\n",
              "        if (!dataTable) return;\n",
              "\n",
              "        const docLinkHtml = 'Like what you see? Visit the ' +\n",
              "          '<a target=\"_blank\" href=https://colab.research.google.com/notebooks/data_table.ipynb>data table notebook</a>'\n",
              "          + ' to learn more about interactive tables.';\n",
              "        element.innerHTML = '';\n",
              "        dataTable['output_type'] = 'display_data';\n",
              "        await google.colab.output.renderOutput(dataTable, element);\n",
              "        const docLink = document.createElement('div');\n",
              "        docLink.innerHTML = docLinkHtml;\n",
              "        element.appendChild(docLink);\n",
              "      }\n",
              "    </script>\n",
              "  </div>\n",
              "\n",
              "\n",
              "<div id=\"df-22d72e83-73a5-47b7-ad39-44fdc5afe90c\">\n",
              "  <button class=\"colab-df-quickchart\" onclick=\"quickchart('df-22d72e83-73a5-47b7-ad39-44fdc5afe90c')\"\n",
              "            title=\"Suggest charts\"\n",
              "            style=\"display:none;\">\n",
              "\n",
              "<svg xmlns=\"http://www.w3.org/2000/svg\" height=\"24px\"viewBox=\"0 0 24 24\"\n",
              "     width=\"24px\">\n",
              "    <g>\n",
              "        <path d=\"M19 3H5c-1.1 0-2 .9-2 2v14c0 1.1.9 2 2 2h14c1.1 0 2-.9 2-2V5c0-1.1-.9-2-2-2zM9 17H7v-7h2v7zm4 0h-2V7h2v10zm4 0h-2v-4h2v4z\"/>\n",
              "    </g>\n",
              "</svg>\n",
              "  </button>\n",
              "\n",
              "<style>\n",
              "  .colab-df-quickchart {\n",
              "      --bg-color: #E8F0FE;\n",
              "      --fill-color: #1967D2;\n",
              "      --hover-bg-color: #E2EBFA;\n",
              "      --hover-fill-color: #174EA6;\n",
              "      --disabled-fill-color: #AAA;\n",
              "      --disabled-bg-color: #DDD;\n",
              "  }\n",
              "\n",
              "  [theme=dark] .colab-df-quickchart {\n",
              "      --bg-color: #3B4455;\n",
              "      --fill-color: #D2E3FC;\n",
              "      --hover-bg-color: #434B5C;\n",
              "      --hover-fill-color: #FFFFFF;\n",
              "      --disabled-bg-color: #3B4455;\n",
              "      --disabled-fill-color: #666;\n",
              "  }\n",
              "\n",
              "  .colab-df-quickchart {\n",
              "    background-color: var(--bg-color);\n",
              "    border: none;\n",
              "    border-radius: 50%;\n",
              "    cursor: pointer;\n",
              "    display: none;\n",
              "    fill: var(--fill-color);\n",
              "    height: 32px;\n",
              "    padding: 0;\n",
              "    width: 32px;\n",
              "  }\n",
              "\n",
              "  .colab-df-quickchart:hover {\n",
              "    background-color: var(--hover-bg-color);\n",
              "    box-shadow: 0 1px 2px rgba(60, 64, 67, 0.3), 0 1px 3px 1px rgba(60, 64, 67, 0.15);\n",
              "    fill: var(--button-hover-fill-color);\n",
              "  }\n",
              "\n",
              "  .colab-df-quickchart-complete:disabled,\n",
              "  .colab-df-quickchart-complete:disabled:hover {\n",
              "    background-color: var(--disabled-bg-color);\n",
              "    fill: var(--disabled-fill-color);\n",
              "    box-shadow: none;\n",
              "  }\n",
              "\n",
              "  .colab-df-spinner {\n",
              "    border: 2px solid var(--fill-color);\n",
              "    border-color: transparent;\n",
              "    border-bottom-color: var(--fill-color);\n",
              "    animation:\n",
              "      spin 1s steps(1) infinite;\n",
              "  }\n",
              "\n",
              "  @keyframes spin {\n",
              "    0% {\n",
              "      border-color: transparent;\n",
              "      border-bottom-color: var(--fill-color);\n",
              "      border-left-color: var(--fill-color);\n",
              "    }\n",
              "    20% {\n",
              "      border-color: transparent;\n",
              "      border-left-color: var(--fill-color);\n",
              "      border-top-color: var(--fill-color);\n",
              "    }\n",
              "    30% {\n",
              "      border-color: transparent;\n",
              "      border-left-color: var(--fill-color);\n",
              "      border-top-color: var(--fill-color);\n",
              "      border-right-color: var(--fill-color);\n",
              "    }\n",
              "    40% {\n",
              "      border-color: transparent;\n",
              "      border-right-color: var(--fill-color);\n",
              "      border-top-color: var(--fill-color);\n",
              "    }\n",
              "    60% {\n",
              "      border-color: transparent;\n",
              "      border-right-color: var(--fill-color);\n",
              "    }\n",
              "    80% {\n",
              "      border-color: transparent;\n",
              "      border-right-color: var(--fill-color);\n",
              "      border-bottom-color: var(--fill-color);\n",
              "    }\n",
              "    90% {\n",
              "      border-color: transparent;\n",
              "      border-bottom-color: var(--fill-color);\n",
              "    }\n",
              "  }\n",
              "</style>\n",
              "\n",
              "  <script>\n",
              "    async function quickchart(key) {\n",
              "      const quickchartButtonEl =\n",
              "        document.querySelector('#' + key + ' button');\n",
              "      quickchartButtonEl.disabled = true;  // To prevent multiple clicks.\n",
              "      quickchartButtonEl.classList.add('colab-df-spinner');\n",
              "      try {\n",
              "        const charts = await google.colab.kernel.invokeFunction(\n",
              "            'suggestCharts', [key], {});\n",
              "      } catch (error) {\n",
              "        console.error('Error during call to suggestCharts:', error);\n",
              "      }\n",
              "      quickchartButtonEl.classList.remove('colab-df-spinner');\n",
              "      quickchartButtonEl.classList.add('colab-df-quickchart-complete');\n",
              "    }\n",
              "    (() => {\n",
              "      let quickchartButtonEl =\n",
              "        document.querySelector('#df-22d72e83-73a5-47b7-ad39-44fdc5afe90c button');\n",
              "      quickchartButtonEl.style.display =\n",
              "        google.colab.kernel.accessAllowed ? 'block' : 'none';\n",
              "    })();\n",
              "  </script>\n",
              "</div>\n",
              "\n",
              "    </div>\n",
              "  </div>\n"
            ],
            "application/vnd.google.colaboratory.intrinsic+json": {
              "type": "dataframe",
              "variable_name": "df",
              "summary": "{\n  \"name\": \"df\",\n  \"rows\": 10,\n  \"fields\": [\n    {\n      \"column\": \"Question\",\n      \"properties\": {\n        \"dtype\": \"string\",\n        \"num_unique_values\": 10,\n        \"samples\": [\n          \"\\u5152\\u7ae5\\u6c92\\u6709\\u6236\\u7c4d\\u662f\\u5426\\u53ef\\u4ee5\\u7533\\u8acb?\",\n          \"\\u672a\\u6eff 2 \\u6b72\\u6258\\u80b2\\u88dc\\u52a9\\u767c\\u653e\\u91d1\\u984d\\u662f\\u591a\\u5c11?\",\n          \"\\u6b63\\u5728\\u9818\\u53d6\\u6258\\u80b2\\u88dc\\u52a9,\\u5152\\u7ae5\\u6eff 2 \\u6b72\\u5f8c\\u4ecd\\u6301\\u7e8c\\u9001\\u6258,\\u662f\\u5426\\u9700\\u91cd\\u65b0\\u7533\\u8acb?\"\n        ],\n        \"semantic_type\": \"\",\n        \"description\": \"\"\n      }\n    },\n    {\n      \"column\": \"Answer\",\n      \"properties\": {\n        \"dtype\": \"string\",\n        \"num_unique_values\": 10,\n        \"samples\": [\n          \"\\u53ea\\u8981\\u5152\\u7ae5\\u5b8c\\u6210\\u51fa\\u751f\\u767b\\u8a18\\u6216\\u521d\\u8a2d\\u6236\\u7c4d\\u767b\\u8a18,\\u5c31\\u5177\\u5099\\u7533\\u8acb\\u8cc7\\u683c,\\u8207\\u6236\\u7c4d\\u7121\\u95dc\\u3002\",\n          \"\\u5f9e 112 \\u5e74 1 \\u6708 1 \\u65e5\\u8d77,\\u516c\\u5171\\u5316\\u6258\\u80b2\\u88dc\\u52a9\\u70ba\\u6bcf\\u6708 5,500 \\u5143\\u8d77,\\u6e96\\u516c\\u5171\\u6258\\u80b2\\u88dc\\u52a9\\u70ba\\u6bcf\\u6708 8,500 \\u5143\\u8d77\\u3002\\u7b2c 2 \\u540d\\u5b50\\u5973\\u52a0\\u767c 1,000 \\u5143,\\u7b2c 3 \\u540d\\u4ee5\\u4e0a\\u5b50\\u5973\\u52a0\\u767c 2,000 \\u5143\\u3002\",\n          \"\\u4e0d\\u9700\\u91cd\\u65b0\\u7533\\u8acb,\\u7cfb\\u7d71\\u6703\\u81ea\\u52d5\\u7e8c\\u767c\\u6258\\u80b2\\u88dc\\u52a9\\u3002\"\n        ],\n        \"semantic_type\": \"\",\n        \"description\": \"\"\n      }\n    },\n    {\n      \"column\": \"QA\",\n      \"properties\": {\n        \"dtype\": \"string\",\n        \"num_unique_values\": 10,\n        \"samples\": [\n          \"\\u5152\\u7ae5\\u6c92\\u6709\\u6236\\u7c4d\\u662f\\u5426\\u53ef\\u4ee5\\u7533\\u8acb? - \\u53ea\\u8981\\u5152\\u7ae5\\u5b8c\\u6210\\u51fa\\u751f\\u767b\\u8a18\\u6216\\u521d\\u8a2d\\u6236\\u7c4d\\u767b\\u8a18,\\u5c31\\u5177\\u5099\\u7533\\u8acb\\u8cc7\\u683c,\\u8207\\u6236\\u7c4d\\u7121\\u95dc\\u3002\",\n          \"\\u672a\\u6eff 2 \\u6b72\\u6258\\u80b2\\u88dc\\u52a9\\u767c\\u653e\\u91d1\\u984d\\u662f\\u591a\\u5c11? - \\u5f9e 112 \\u5e74 1 \\u6708 1 \\u65e5\\u8d77,\\u516c\\u5171\\u5316\\u6258\\u80b2\\u88dc\\u52a9\\u70ba\\u6bcf\\u6708 5,500 \\u5143\\u8d77,\\u6e96\\u516c\\u5171\\u6258\\u80b2\\u88dc\\u52a9\\u70ba\\u6bcf\\u6708 8,500 \\u5143\\u8d77\\u3002\\u7b2c 2 \\u540d\\u5b50\\u5973\\u52a0\\u767c 1,000 \\u5143,\\u7b2c 3 \\u540d\\u4ee5\\u4e0a\\u5b50\\u5973\\u52a0\\u767c 2,000 \\u5143\\u3002\",\n          \"\\u6b63\\u5728\\u9818\\u53d6\\u6258\\u80b2\\u88dc\\u52a9,\\u5152\\u7ae5\\u6eff 2 \\u6b72\\u5f8c\\u4ecd\\u6301\\u7e8c\\u9001\\u6258,\\u662f\\u5426\\u9700\\u91cd\\u65b0\\u7533\\u8acb? - \\u4e0d\\u9700\\u91cd\\u65b0\\u7533\\u8acb,\\u7cfb\\u7d71\\u6703\\u81ea\\u52d5\\u7e8c\\u767c\\u6258\\u80b2\\u88dc\\u52a9\\u3002\"\n        ],\n        \"semantic_type\": \"\",\n        \"description\": \"\"\n      }\n    }\n  ]\n}"
            }
          },
          "metadata": {},
          "execution_count": 13
        }
      ],
      "source": [
        "import pandas as pd\n",
        "df = pd.read_csv(\"qa_data.csv\", encoding='utf-8')\n",
        "df.head()"
      ]
    },
    {
      "cell_type": "code",
      "execution_count": null,
      "id": "1bdef744-4bf8-4845-9f43-9a2316043280",
      "metadata": {
        "colab": {
          "base_uri": "https://localhost:8080/",
          "height": 292
        },
        "id": "1bdef744-4bf8-4845-9f43-9a2316043280",
        "outputId": "4167d56c-e26d-4b2c-958c-dc4c15e159b5"
      },
      "outputs": [
        {
          "output_type": "execute_result",
          "data": {
            "text/plain": [
              "                       Question  \\\n",
              "0          未滿 2 歲兒童托育補助發放對象有哪些?   \n",
              "1            未滿 2 歲托育補助發放金額是多少?   \n",
              "2          申請未滿 2 歲托育補助需準備哪些文件?   \n",
              "3             未滿 2 歲托育補助要到哪裡申請?   \n",
              "4  兒童原本領取育兒津貼,後改送托,需要重新申請托育補助嗎?   \n",
              "\n",
              "                                              Answer  \\\n",
              "0  實際年齡未滿 2 歲的中華民國籍兒童,且符合出生登記或戶籍登記、送托簽約托嬰中心或居家托育人...   \n",
              "1  從 112 年 1 月 1 日起,公共化托育補助為每月 5,500 元起,準公共托育補助為每...   \n",
              "2  需提供未滿 2 歲兒童托育準公共化服務費用申報表、申請人及兒童身分證明文件、簽訂之托育服務契...   \n",
              "3  請檢具申請書及相關證明文件,於托育事實發生之日起 15 日內,以郵寄或親送方式向托嬰中心或居...   \n",
              "4  需要重新申請,並記得向原領育兒津貼的公所取消。相反地,如原領托育補助改為自行照顧,也要向公所...   \n",
              "\n",
              "                                                  QA  \n",
              "0  未滿 2 歲兒童托育補助發放對象有哪些? - 實際年齡未滿 2 歲的中華民國籍兒童,且符合出...  \n",
              "1  未滿 2 歲托育補助發放金額是多少? - 從 112 年 1 月 1 日起,公共化托育補助為...  \n",
              "2  申請未滿 2 歲托育補助需準備哪些文件? - 需提供未滿 2 歲兒童托育準公共化服務費用申報...  \n",
              "3  未滿 2 歲托育補助要到哪裡申請? - 請檢具申請書及相關證明文件,於托育事實發生之日起 1...  \n",
              "4  兒童原本領取育兒津貼,後改送托,需要重新申請托育補助嗎? - 需要重新申請,並記得向原領育兒...  "
            ],
            "text/html": [
              "\n",
              "  <div id=\"df-d430100f-aafb-4620-84b5-406f84fa8154\" class=\"colab-df-container\">\n",
              "    <div>\n",
              "<style scoped>\n",
              "    .dataframe tbody tr th:only-of-type {\n",
              "        vertical-align: middle;\n",
              "    }\n",
              "\n",
              "    .dataframe tbody tr th {\n",
              "        vertical-align: top;\n",
              "    }\n",
              "\n",
              "    .dataframe thead th {\n",
              "        text-align: right;\n",
              "    }\n",
              "</style>\n",
              "<table border=\"1\" class=\"dataframe\">\n",
              "  <thead>\n",
              "    <tr style=\"text-align: right;\">\n",
              "      <th></th>\n",
              "      <th>Question</th>\n",
              "      <th>Answer</th>\n",
              "      <th>QA</th>\n",
              "    </tr>\n",
              "  </thead>\n",
              "  <tbody>\n",
              "    <tr>\n",
              "      <th>0</th>\n",
              "      <td>未滿 2 歲兒童托育補助發放對象有哪些?</td>\n",
              "      <td>實際年齡未滿 2 歲的中華民國籍兒童,且符合出生登記或戶籍登記、送托簽約托嬰中心或居家托育人...</td>\n",
              "      <td>未滿 2 歲兒童托育補助發放對象有哪些? - 實際年齡未滿 2 歲的中華民國籍兒童,且符合出...</td>\n",
              "    </tr>\n",
              "    <tr>\n",
              "      <th>1</th>\n",
              "      <td>未滿 2 歲托育補助發放金額是多少?</td>\n",
              "      <td>從 112 年 1 月 1 日起,公共化托育補助為每月 5,500 元起,準公共托育補助為每...</td>\n",
              "      <td>未滿 2 歲托育補助發放金額是多少? - 從 112 年 1 月 1 日起,公共化托育補助為...</td>\n",
              "    </tr>\n",
              "    <tr>\n",
              "      <th>2</th>\n",
              "      <td>申請未滿 2 歲托育補助需準備哪些文件?</td>\n",
              "      <td>需提供未滿 2 歲兒童托育準公共化服務費用申報表、申請人及兒童身分證明文件、簽訂之托育服務契...</td>\n",
              "      <td>申請未滿 2 歲托育補助需準備哪些文件? - 需提供未滿 2 歲兒童托育準公共化服務費用申報...</td>\n",
              "    </tr>\n",
              "    <tr>\n",
              "      <th>3</th>\n",
              "      <td>未滿 2 歲托育補助要到哪裡申請?</td>\n",
              "      <td>請檢具申請書及相關證明文件,於托育事實發生之日起 15 日內,以郵寄或親送方式向托嬰中心或居...</td>\n",
              "      <td>未滿 2 歲托育補助要到哪裡申請? - 請檢具申請書及相關證明文件,於托育事實發生之日起 1...</td>\n",
              "    </tr>\n",
              "    <tr>\n",
              "      <th>4</th>\n",
              "      <td>兒童原本領取育兒津貼,後改送托,需要重新申請托育補助嗎?</td>\n",
              "      <td>需要重新申請,並記得向原領育兒津貼的公所取消。相反地,如原領托育補助改為自行照顧,也要向公所...</td>\n",
              "      <td>兒童原本領取育兒津貼,後改送托,需要重新申請托育補助嗎? - 需要重新申請,並記得向原領育兒...</td>\n",
              "    </tr>\n",
              "  </tbody>\n",
              "</table>\n",
              "</div>\n",
              "    <div class=\"colab-df-buttons\">\n",
              "\n",
              "  <div class=\"colab-df-container\">\n",
              "    <button class=\"colab-df-convert\" onclick=\"convertToInteractive('df-d430100f-aafb-4620-84b5-406f84fa8154')\"\n",
              "            title=\"Convert this dataframe to an interactive table.\"\n",
              "            style=\"display:none;\">\n",
              "\n",
              "  <svg xmlns=\"http://www.w3.org/2000/svg\" height=\"24px\" viewBox=\"0 -960 960 960\">\n",
              "    <path d=\"M120-120v-720h720v720H120Zm60-500h600v-160H180v160Zm220 220h160v-160H400v160Zm0 220h160v-160H400v160ZM180-400h160v-160H180v160Zm440 0h160v-160H620v160ZM180-180h160v-160H180v160Zm440 0h160v-160H620v160Z\"/>\n",
              "  </svg>\n",
              "    </button>\n",
              "\n",
              "  <style>\n",
              "    .colab-df-container {\n",
              "      display:flex;\n",
              "      gap: 12px;\n",
              "    }\n",
              "\n",
              "    .colab-df-convert {\n",
              "      background-color: #E8F0FE;\n",
              "      border: none;\n",
              "      border-radius: 50%;\n",
              "      cursor: pointer;\n",
              "      display: none;\n",
              "      fill: #1967D2;\n",
              "      height: 32px;\n",
              "      padding: 0 0 0 0;\n",
              "      width: 32px;\n",
              "    }\n",
              "\n",
              "    .colab-df-convert:hover {\n",
              "      background-color: #E2EBFA;\n",
              "      box-shadow: 0px 1px 2px rgba(60, 64, 67, 0.3), 0px 1px 3px 1px rgba(60, 64, 67, 0.15);\n",
              "      fill: #174EA6;\n",
              "    }\n",
              "\n",
              "    .colab-df-buttons div {\n",
              "      margin-bottom: 4px;\n",
              "    }\n",
              "\n",
              "    [theme=dark] .colab-df-convert {\n",
              "      background-color: #3B4455;\n",
              "      fill: #D2E3FC;\n",
              "    }\n",
              "\n",
              "    [theme=dark] .colab-df-convert:hover {\n",
              "      background-color: #434B5C;\n",
              "      box-shadow: 0px 1px 3px 1px rgba(0, 0, 0, 0.15);\n",
              "      filter: drop-shadow(0px 1px 2px rgba(0, 0, 0, 0.3));\n",
              "      fill: #FFFFFF;\n",
              "    }\n",
              "  </style>\n",
              "\n",
              "    <script>\n",
              "      const buttonEl =\n",
              "        document.querySelector('#df-d430100f-aafb-4620-84b5-406f84fa8154 button.colab-df-convert');\n",
              "      buttonEl.style.display =\n",
              "        google.colab.kernel.accessAllowed ? 'block' : 'none';\n",
              "\n",
              "      async function convertToInteractive(key) {\n",
              "        const element = document.querySelector('#df-d430100f-aafb-4620-84b5-406f84fa8154');\n",
              "        const dataTable =\n",
              "          await google.colab.kernel.invokeFunction('convertToInteractive',\n",
              "                                                    [key], {});\n",
              "        if (!dataTable) return;\n",
              "\n",
              "        const docLinkHtml = 'Like what you see? Visit the ' +\n",
              "          '<a target=\"_blank\" href=https://colab.research.google.com/notebooks/data_table.ipynb>data table notebook</a>'\n",
              "          + ' to learn more about interactive tables.';\n",
              "        element.innerHTML = '';\n",
              "        dataTable['output_type'] = 'display_data';\n",
              "        await google.colab.output.renderOutput(dataTable, element);\n",
              "        const docLink = document.createElement('div');\n",
              "        docLink.innerHTML = docLinkHtml;\n",
              "        element.appendChild(docLink);\n",
              "      }\n",
              "    </script>\n",
              "  </div>\n",
              "\n",
              "\n",
              "<div id=\"df-6f5dd1da-ae73-4bd5-969d-d0748da86c1c\">\n",
              "  <button class=\"colab-df-quickchart\" onclick=\"quickchart('df-6f5dd1da-ae73-4bd5-969d-d0748da86c1c')\"\n",
              "            title=\"Suggest charts\"\n",
              "            style=\"display:none;\">\n",
              "\n",
              "<svg xmlns=\"http://www.w3.org/2000/svg\" height=\"24px\"viewBox=\"0 0 24 24\"\n",
              "     width=\"24px\">\n",
              "    <g>\n",
              "        <path d=\"M19 3H5c-1.1 0-2 .9-2 2v14c0 1.1.9 2 2 2h14c1.1 0 2-.9 2-2V5c0-1.1-.9-2-2-2zM9 17H7v-7h2v7zm4 0h-2V7h2v10zm4 0h-2v-4h2v4z\"/>\n",
              "    </g>\n",
              "</svg>\n",
              "  </button>\n",
              "\n",
              "<style>\n",
              "  .colab-df-quickchart {\n",
              "      --bg-color: #E8F0FE;\n",
              "      --fill-color: #1967D2;\n",
              "      --hover-bg-color: #E2EBFA;\n",
              "      --hover-fill-color: #174EA6;\n",
              "      --disabled-fill-color: #AAA;\n",
              "      --disabled-bg-color: #DDD;\n",
              "  }\n",
              "\n",
              "  [theme=dark] .colab-df-quickchart {\n",
              "      --bg-color: #3B4455;\n",
              "      --fill-color: #D2E3FC;\n",
              "      --hover-bg-color: #434B5C;\n",
              "      --hover-fill-color: #FFFFFF;\n",
              "      --disabled-bg-color: #3B4455;\n",
              "      --disabled-fill-color: #666;\n",
              "  }\n",
              "\n",
              "  .colab-df-quickchart {\n",
              "    background-color: var(--bg-color);\n",
              "    border: none;\n",
              "    border-radius: 50%;\n",
              "    cursor: pointer;\n",
              "    display: none;\n",
              "    fill: var(--fill-color);\n",
              "    height: 32px;\n",
              "    padding: 0;\n",
              "    width: 32px;\n",
              "  }\n",
              "\n",
              "  .colab-df-quickchart:hover {\n",
              "    background-color: var(--hover-bg-color);\n",
              "    box-shadow: 0 1px 2px rgba(60, 64, 67, 0.3), 0 1px 3px 1px rgba(60, 64, 67, 0.15);\n",
              "    fill: var(--button-hover-fill-color);\n",
              "  }\n",
              "\n",
              "  .colab-df-quickchart-complete:disabled,\n",
              "  .colab-df-quickchart-complete:disabled:hover {\n",
              "    background-color: var(--disabled-bg-color);\n",
              "    fill: var(--disabled-fill-color);\n",
              "    box-shadow: none;\n",
              "  }\n",
              "\n",
              "  .colab-df-spinner {\n",
              "    border: 2px solid var(--fill-color);\n",
              "    border-color: transparent;\n",
              "    border-bottom-color: var(--fill-color);\n",
              "    animation:\n",
              "      spin 1s steps(1) infinite;\n",
              "  }\n",
              "\n",
              "  @keyframes spin {\n",
              "    0% {\n",
              "      border-color: transparent;\n",
              "      border-bottom-color: var(--fill-color);\n",
              "      border-left-color: var(--fill-color);\n",
              "    }\n",
              "    20% {\n",
              "      border-color: transparent;\n",
              "      border-left-color: var(--fill-color);\n",
              "      border-top-color: var(--fill-color);\n",
              "    }\n",
              "    30% {\n",
              "      border-color: transparent;\n",
              "      border-left-color: var(--fill-color);\n",
              "      border-top-color: var(--fill-color);\n",
              "      border-right-color: var(--fill-color);\n",
              "    }\n",
              "    40% {\n",
              "      border-color: transparent;\n",
              "      border-right-color: var(--fill-color);\n",
              "      border-top-color: var(--fill-color);\n",
              "    }\n",
              "    60% {\n",
              "      border-color: transparent;\n",
              "      border-right-color: var(--fill-color);\n",
              "    }\n",
              "    80% {\n",
              "      border-color: transparent;\n",
              "      border-right-color: var(--fill-color);\n",
              "      border-bottom-color: var(--fill-color);\n",
              "    }\n",
              "    90% {\n",
              "      border-color: transparent;\n",
              "      border-bottom-color: var(--fill-color);\n",
              "    }\n",
              "  }\n",
              "</style>\n",
              "\n",
              "  <script>\n",
              "    async function quickchart(key) {\n",
              "      const quickchartButtonEl =\n",
              "        document.querySelector('#' + key + ' button');\n",
              "      quickchartButtonEl.disabled = true;  // To prevent multiple clicks.\n",
              "      quickchartButtonEl.classList.add('colab-df-spinner');\n",
              "      try {\n",
              "        const charts = await google.colab.kernel.invokeFunction(\n",
              "            'suggestCharts', [key], {});\n",
              "      } catch (error) {\n",
              "        console.error('Error during call to suggestCharts:', error);\n",
              "      }\n",
              "      quickchartButtonEl.classList.remove('colab-df-spinner');\n",
              "      quickchartButtonEl.classList.add('colab-df-quickchart-complete');\n",
              "    }\n",
              "    (() => {\n",
              "      let quickchartButtonEl =\n",
              "        document.querySelector('#df-6f5dd1da-ae73-4bd5-969d-d0748da86c1c button');\n",
              "      quickchartButtonEl.style.display =\n",
              "        google.colab.kernel.accessAllowed ? 'block' : 'none';\n",
              "    })();\n",
              "  </script>\n",
              "</div>\n",
              "\n",
              "    </div>\n",
              "  </div>\n"
            ],
            "application/vnd.google.colaboratory.intrinsic+json": {
              "type": "dataframe",
              "variable_name": "docs",
              "summary": "{\n  \"name\": \"docs\",\n  \"rows\": 10,\n  \"fields\": [\n    {\n      \"column\": \"Question\",\n      \"properties\": {\n        \"dtype\": \"string\",\n        \"num_unique_values\": 10,\n        \"samples\": [\n          \"\\u5152\\u7ae5\\u6c92\\u6709\\u6236\\u7c4d\\u662f\\u5426\\u53ef\\u4ee5\\u7533\\u8acb?\",\n          \"\\u672a\\u6eff 2 \\u6b72\\u6258\\u80b2\\u88dc\\u52a9\\u767c\\u653e\\u91d1\\u984d\\u662f\\u591a\\u5c11?\",\n          \"\\u6b63\\u5728\\u9818\\u53d6\\u6258\\u80b2\\u88dc\\u52a9,\\u5152\\u7ae5\\u6eff 2 \\u6b72\\u5f8c\\u4ecd\\u6301\\u7e8c\\u9001\\u6258,\\u662f\\u5426\\u9700\\u91cd\\u65b0\\u7533\\u8acb?\"\n        ],\n        \"semantic_type\": \"\",\n        \"description\": \"\"\n      }\n    },\n    {\n      \"column\": \"Answer\",\n      \"properties\": {\n        \"dtype\": \"string\",\n        \"num_unique_values\": 10,\n        \"samples\": [\n          \"\\u53ea\\u8981\\u5152\\u7ae5\\u5b8c\\u6210\\u51fa\\u751f\\u767b\\u8a18\\u6216\\u521d\\u8a2d\\u6236\\u7c4d\\u767b\\u8a18,\\u5c31\\u5177\\u5099\\u7533\\u8acb\\u8cc7\\u683c,\\u8207\\u6236\\u7c4d\\u7121\\u95dc\\u3002\",\n          \"\\u5f9e 112 \\u5e74 1 \\u6708 1 \\u65e5\\u8d77,\\u516c\\u5171\\u5316\\u6258\\u80b2\\u88dc\\u52a9\\u70ba\\u6bcf\\u6708 5,500 \\u5143\\u8d77,\\u6e96\\u516c\\u5171\\u6258\\u80b2\\u88dc\\u52a9\\u70ba\\u6bcf\\u6708 8,500 \\u5143\\u8d77\\u3002\\u7b2c 2 \\u540d\\u5b50\\u5973\\u52a0\\u767c 1,000 \\u5143,\\u7b2c 3 \\u540d\\u4ee5\\u4e0a\\u5b50\\u5973\\u52a0\\u767c 2,000 \\u5143\\u3002\",\n          \"\\u4e0d\\u9700\\u91cd\\u65b0\\u7533\\u8acb,\\u7cfb\\u7d71\\u6703\\u81ea\\u52d5\\u7e8c\\u767c\\u6258\\u80b2\\u88dc\\u52a9\\u3002\"\n        ],\n        \"semantic_type\": \"\",\n        \"description\": \"\"\n      }\n    },\n    {\n      \"column\": \"QA\",\n      \"properties\": {\n        \"dtype\": \"string\",\n        \"num_unique_values\": 10,\n        \"samples\": [\n          \"\\u5152\\u7ae5\\u6c92\\u6709\\u6236\\u7c4d\\u662f\\u5426\\u53ef\\u4ee5\\u7533\\u8acb? - \\u53ea\\u8981\\u5152\\u7ae5\\u5b8c\\u6210\\u51fa\\u751f\\u767b\\u8a18\\u6216\\u521d\\u8a2d\\u6236\\u7c4d\\u767b\\u8a18,\\u5c31\\u5177\\u5099\\u7533\\u8acb\\u8cc7\\u683c,\\u8207\\u6236\\u7c4d\\u7121\\u95dc\\u3002\",\n          \"\\u672a\\u6eff 2 \\u6b72\\u6258\\u80b2\\u88dc\\u52a9\\u767c\\u653e\\u91d1\\u984d\\u662f\\u591a\\u5c11? - \\u5f9e 112 \\u5e74 1 \\u6708 1 \\u65e5\\u8d77,\\u516c\\u5171\\u5316\\u6258\\u80b2\\u88dc\\u52a9\\u70ba\\u6bcf\\u6708 5,500 \\u5143\\u8d77,\\u6e96\\u516c\\u5171\\u6258\\u80b2\\u88dc\\u52a9\\u70ba\\u6bcf\\u6708 8,500 \\u5143\\u8d77\\u3002\\u7b2c 2 \\u540d\\u5b50\\u5973\\u52a0\\u767c 1,000 \\u5143,\\u7b2c 3 \\u540d\\u4ee5\\u4e0a\\u5b50\\u5973\\u52a0\\u767c 2,000 \\u5143\\u3002\",\n          \"\\u6b63\\u5728\\u9818\\u53d6\\u6258\\u80b2\\u88dc\\u52a9,\\u5152\\u7ae5\\u6eff 2 \\u6b72\\u5f8c\\u4ecd\\u6301\\u7e8c\\u9001\\u6258,\\u662f\\u5426\\u9700\\u91cd\\u65b0\\u7533\\u8acb? - \\u4e0d\\u9700\\u91cd\\u65b0\\u7533\\u8acb,\\u7cfb\\u7d71\\u6703\\u81ea\\u52d5\\u7e8c\\u767c\\u6258\\u80b2\\u88dc\\u52a9\\u3002\"\n        ],\n        \"semantic_type\": \"\",\n        \"description\": \"\"\n      }\n    }\n  ]\n}"
            }
          },
          "metadata": {},
          "execution_count": 14
        }
      ],
      "source": [
        "docs = df[['Question', 'Answer', 'QA']]\n",
        "docs.head()"
      ]
    },
    {
      "cell_type": "markdown",
      "id": "c63804b4-5e9a-4ca1-ba7f-e563e3513924",
      "metadata": {
        "id": "c63804b4-5e9a-4ca1-ba7f-e563e3513924"
      },
      "source": [
        "# RAG"
      ]
    },
    {
      "cell_type": "code",
      "execution_count": null,
      "id": "823f066c-eb19-464a-8e70-b9ab5721c778",
      "metadata": {
        "id": "823f066c-eb19-464a-8e70-b9ab5721c778"
      },
      "outputs": [],
      "source": [
        "from langchain_community.document_loaders import DataFrameLoader\n",
        "\n",
        "loader = DataFrameLoader(docs, page_content_column=\"QA\")\n",
        "documents = loader.load()"
      ]
    },
    {
      "cell_type": "code",
      "execution_count": null,
      "id": "70a6869d-caec-4733-9b05-a3ce049686f0",
      "metadata": {
        "colab": {
          "base_uri": "https://localhost:8080/"
        },
        "id": "70a6869d-caec-4733-9b05-a3ce049686f0",
        "outputId": "8f7d878b-7e68-4449-8f38-e59dc8827255"
      },
      "outputs": [
        {
          "output_type": "execute_result",
          "data": {
            "text/plain": [
              "Document(page_content='未滿 2 歲兒童托育補助發放對象有哪些? - 實際年齡未滿 2 歲的中華民國籍兒童,且符合出生登記或戶籍登記、送托簽約托嬰中心或居家托育人員、每週送托時數達 30 小時以上、未領取育兒津貼、未經政府公費安置等條件。', metadata={'Question': '未滿 2 歲兒童托育補助發放對象有哪些?', 'Answer': '實際年齡未滿 2 歲的中華民國籍兒童,且符合出生登記或戶籍登記、送托簽約托嬰中心或居家托育人員、每週送托時數達 30 小時以上、未領取育兒津貼、未經政府公費安置等條件。'})"
            ]
          },
          "metadata": {},
          "execution_count": 16
        }
      ],
      "source": [
        "documents[0]"
      ]
    },
    {
      "cell_type": "code",
      "execution_count": null,
      "id": "053627e4-503e-4703-a098-d7783d079a66",
      "metadata": {
        "colab": {
          "base_uri": "https://localhost:8080/"
        },
        "id": "053627e4-503e-4703-a098-d7783d079a66",
        "outputId": "05b59f6b-7623-46df-e89e-c9354cf864cc"
      },
      "outputs": [
        {
          "output_type": "execute_result",
          "data": {
            "text/plain": [
              "{'Question': '未滿 2 歲兒童托育補助發放對象有哪些?',\n",
              " 'Answer': '實際年齡未滿 2 歲的中華民國籍兒童,且符合出生登記或戶籍登記、送托簽約托嬰中心或居家托育人員、每週送托時數達 30 小時以上、未領取育兒津貼、未經政府公費安置等條件。'}"
            ]
          },
          "metadata": {},
          "execution_count": 17
        }
      ],
      "source": [
        "documents[0].metadata"
      ]
    },
    {
      "cell_type": "code",
      "execution_count": null,
      "id": "80a504a2-c5c4-44b4-aa2e-6d626480a1c3",
      "metadata": {
        "id": "80a504a2-c5c4-44b4-aa2e-6d626480a1c3"
      },
      "outputs": [],
      "source": [
        "from langchain_community.vectorstores import Qdrant\n",
        "from langchain_openai import OpenAIEmbeddings\n",
        "embeddings = OpenAIEmbeddings(openai_api_key=\"OPENAI_API_KEY\",model=\"text-embedding-3-small\")\n",
        "\n",
        "qdrant = Qdrant.from_documents(\n",
        "    documents=documents,\n",
        "    embedding=embeddings,\n",
        "    location=\":memory:\",  # Local mode with in-memory storage only\n",
        "    collection_name=\"chatbot\"\n",
        ")"
      ]
    },
    {
      "cell_type": "code",
      "execution_count": null,
      "id": "1121fee7-acd6-4507-94b8-8053b649d763",
      "metadata": {
        "colab": {
          "base_uri": "https://localhost:8080/"
        },
        "id": "1121fee7-acd6-4507-94b8-8053b649d763",
        "outputId": "7e00b4aa-e22a-4d93-f23d-43c567f3e263"
      },
      "outputs": [
        {
          "output_type": "execute_result",
          "data": {
            "text/plain": [
              "[Document(page_content='未滿 2 歲托育補助發放金額是多少? - 從 112 年 1 月 1 日起,公共化托育補助為每月 5,500 元起,準公共托育補助為每月 8,500 元起。第 2 名子女加發 1,000 元,第 3 名以上子女加發 2,000 元。', metadata={'Question': '未滿 2 歲托育補助發放金額是多少?', 'Answer': '從 112 年 1 月 1 日起,公共化托育補助為每月 5,500 元起,準公共托育補助為每月 8,500 元起。第 2 名子女加發 1,000 元,第 3 名以上子女加發 2,000 元。', '_id': '26372ef2806941c1af7a064ec99993a3', '_collection_name': 'chatbot'}),\n",
              " Document(page_content='未滿 2 歲兒童托育補助發放對象有哪些? - 實際年齡未滿 2 歲的中華民國籍兒童,且符合出生登記或戶籍登記、送托簽約托嬰中心或居家托育人員、每週送托時數達 30 小時以上、未領取育兒津貼、未經政府公費安置等條件。', metadata={'Question': '未滿 2 歲兒童托育補助發放對象有哪些?', 'Answer': '實際年齡未滿 2 歲的中華民國籍兒童,且符合出生登記或戶籍登記、送托簽約托嬰中心或居家托育人員、每週送托時數達 30 小時以上、未領取育兒津貼、未經政府公費安置等條件。', '_id': '32a81da6afb148e086fe33dbdd6eb72a', '_collection_name': 'chatbot'}),\n",
              " Document(page_content='未滿 2 歲托育補助要到哪裡申請? - 請檢具申請書及相關證明文件,於托育事實發生之日起 15 日內,以郵寄或親送方式向托嬰中心或居家保母所屬的居家托育服務中心提出申請。', metadata={'Question': '未滿 2 歲托育補助要到哪裡申請?', 'Answer': '請檢具申請書及相關證明文件,於托育事實發生之日起 15 日內,以郵寄或親送方式向托嬰中心或居家保母所屬的居家托育服務中心提出申請。', '_id': '1cb56967401947bdb70e3cf0c205a146', '_collection_name': 'chatbot'})]"
            ]
          },
          "metadata": {},
          "execution_count": 19
        }
      ],
      "source": [
        "query = \"托育補助發放金額是多少?\"\n",
        "qdrant.similarity_search(query, k=3)"
      ]
    },
    {
      "cell_type": "code",
      "execution_count": null,
      "id": "df85291a-87a2-48ed-a6d5-57b0d66fe8ae",
      "metadata": {
        "id": "df85291a-87a2-48ed-a6d5-57b0d66fe8ae"
      },
      "outputs": [],
      "source": [
        "def custom_prompt(query: str):\n",
        "    results = qdrant.similarity_search(query, k=3)\n",
        "    source_knowledge = \"\\n\".join([x.page_content for x in results])\n",
        "    augment_prompt = f\"\"\"Using the contexts below, answer the query:\n",
        "\n",
        "    Contexts:\n",
        "    {source_knowledge}\n",
        "\n",
        "    Query: {query}\"\"\"\n",
        "    return augment_prompt"
      ]
    },
    {
      "cell_type": "code",
      "execution_count": null,
      "id": "361d4367-3e06-4cb8-9fad-e02726e70078",
      "metadata": {
        "colab": {
          "base_uri": "https://localhost:8080/"
        },
        "id": "361d4367-3e06-4cb8-9fad-e02726e70078",
        "outputId": "82ce83b9-23e0-416b-e392-a8ae37ea6284"
      },
      "outputs": [
        {
          "output_type": "stream",
          "name": "stdout",
          "text": [
            "Using the contexts below, answer the query:\n",
            "\n",
            "    Contexts:\n",
            "    未滿 2 歲托育補助發放金額是多少? - 從 112 年 1 月 1 日起,公共化托育補助為每月 5,500 元起,準公共托育補助為每月 8,500 元起。第 2 名子女加發 1,000 元,第 3 名以上子女加發 2,000 元。\n",
            "未滿 2 歲兒童托育補助發放對象有哪些? - 實際年齡未滿 2 歲的中華民國籍兒童,且符合出生登記或戶籍登記、送托簽約托嬰中心或居家托育人員、每週送托時數達 30 小時以上、未領取育兒津貼、未經政府公費安置等條件。\n",
            "未滿 2 歲托育補助要到哪裡申請? - 請檢具申請書及相關證明文件,於托育事實發生之日起 15 日內,以郵寄或親送方式向托嬰中心或居家保母所屬的居家托育服務中心提出申請。\n",
            "\n",
            "    Query: 托育補助發放金額是多少?\n"
          ]
        }
      ],
      "source": [
        "print(custom_prompt(query))"
      ]
    },
    {
      "cell_type": "code",
      "execution_count": null,
      "id": "ae16353d-9da6-494d-914f-b1ac65d4cb54",
      "metadata": {
        "colab": {
          "base_uri": "https://localhost:8080/"
        },
        "id": "ae16353d-9da6-494d-914f-b1ac65d4cb54",
        "outputId": "c932bca2-076d-4d5f-a478-95f304d4c71a"
      },
      "outputs": [
        {
          "output_type": "stream",
          "name": "stdout",
          "text": [
            "未滿 2 歲托育補助的發放金額根據不同情況而有所不同：\n",
            "- 公共化托育補助為每月 5,500 元起。\n",
            "- 準公共托育補助為每月 8,500 元起。\n",
            "- 第 2 名子女加發 1,000 元。\n",
            "- 第 3 名以上子女加發 2,000 元。\n",
            "\n",
            "請根據自己的情況和需求，合理申請適用的托育補助金額。\n"
          ]
        }
      ],
      "source": [
        "prompt = HumanMessage(\n",
        "    content=custom_prompt(query)\n",
        ")\n",
        "\n",
        "messages.append(prompt)\n",
        "\n",
        "res = chat.invoke(messages)\n",
        "\n",
        "print(res.content)"
      ]
    },
    {
      "cell_type": "markdown",
      "source": [
        "## Gradio chatbot"
      ],
      "metadata": {
        "id": "qw6K6dKoaU5D"
      },
      "id": "qw6K6dKoaU5D"
    },
    {
      "cell_type": "code",
      "source": [
        "import gradio as gr\n",
        "# 函数用于处理用户输入并返回回复\n",
        "def chatbot_response(query):\n",
        "    prompt = HumanMessage(content=custom_prompt(query))\n",
        "    messages.append(prompt)\n",
        "    res = chat.invoke(messages)\n",
        "    return res.content\n",
        "\n",
        "# Gradio界面\n",
        "def chatbot_interface(query):\n",
        "    response = chatbot_response(query)\n",
        "    return response\n",
        "\n",
        "# 创建 Gradio 界面\n",
        "interface = gr.Interface(fn=chatbot_interface, inputs=\"text\", outputs=\"text\", title=\"Chatbot\")\n",
        "interface.launch()\n"
      ],
      "metadata": {
        "colab": {
          "base_uri": "https://localhost:8080/",
          "height": 648
        },
        "id": "1jT4eI0-PjKo",
        "outputId": "461c1876-3102-400b-df51-9bba200c3ad4"
      },
      "id": "1jT4eI0-PjKo",
      "execution_count": null,
      "outputs": [
        {
          "output_type": "stream",
          "name": "stdout",
          "text": [
            "Setting queue=True in a Colab notebook requires sharing enabled. Setting `share=True` (you can turn this off by setting `share=False` in `launch()` explicitly).\n",
            "\n",
            "Colab notebook detected. To show errors in colab notebook, set debug=True in launch()\n",
            "Running on public URL: https://cb4bff87e6ef4f8946.gradio.live\n",
            "\n",
            "This share link expires in 72 hours. For free permanent hosting and GPU upgrades, run `gradio deploy` from Terminal to deploy to Spaces (https://huggingface.co/spaces)\n"
          ]
        },
        {
          "output_type": "display_data",
          "data": {
            "text/plain": [
              "<IPython.core.display.HTML object>"
            ],
            "text/html": [
              "<div><iframe src=\"https://cb4bff87e6ef4f8946.gradio.live\" width=\"100%\" height=\"500\" allow=\"autoplay; camera; microphone; clipboard-read; clipboard-write;\" frameborder=\"0\" allowfullscreen></iframe></div>"
            ]
          },
          "metadata": {}
        },
        {
          "output_type": "execute_result",
          "data": {
            "text/plain": []
          },
          "metadata": {},
          "execution_count": 23
        }
      ]
    },
    {
      "cell_type": "code",
      "source": [],
      "metadata": {
        "id": "r0UWH-J8ZlG2"
      },
      "id": "r0UWH-J8ZlG2",
      "execution_count": null,
      "outputs": []
    }
  ],
  "metadata": {
    "kernelspec": {
      "display_name": "Python 3",
      "language": "python",
      "name": "python3"
    },
    "language_info": {
      "codemirror_mode": {
        "name": "ipython",
        "version": 3
      },
      "file_extension": ".py",
      "mimetype": "text/x-python",
      "name": "python",
      "nbconvert_exporter": "python",
      "pygments_lexer": "ipython3",
      "version": "3.11.8"
    },
    "colab": {
      "provenance": []
    }
  },
  "nbformat": 4,
  "nbformat_minor": 5
}